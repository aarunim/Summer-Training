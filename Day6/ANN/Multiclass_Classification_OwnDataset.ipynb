{
  "nbformat": 4,
  "nbformat_minor": 0,
  "metadata": {
    "colab": {
      "name": "2.2. Multiclass Classification.ipynb",
      "provenance": [],
      "include_colab_link": true
    },
    "language_info": {
      "codemirror_mode": {
        "name": "ipython",
        "version": 3
      },
      "file_extension": ".py",
      "mimetype": "text/x-python",
      "name": "python",
      "nbconvert_exporter": "python",
      "pygments_lexer": "ipython3",
      "version": "3.6.1"
    },
    "kernelspec": {
      "display_name": "Python 3",
      "language": "python",
      "name": "python3"
    }
  },
  "cells": [
    {
      "cell_type": "markdown",
      "metadata": {
        "id": "view-in-github",
        "colab_type": "text"
      },
      "source": [
        "<a href=\"https://colab.research.google.com/github/aarunim/Summer-Training/blob/main/Day6/ANN/Multiclass_Classification_OwnDataset.ipynb\" target=\"_parent\"><img src=\"https://colab.research.google.com/assets/colab-badge.svg\" alt=\"Open In Colab\"/></a>"
      ]
    },
    {
      "cell_type": "markdown",
      "metadata": {
        "id": "GAmM0ZmzwaXz"
      },
      "source": [
        "#  Importing packages"
      ]
    },
    {
      "cell_type": "code",
      "metadata": {
        "id": "sLL-Z-B1waX1"
      },
      "source": [
        "from __future__ import print_function\n",
        "import keras\n",
        "from keras.models import Sequential\n",
        "from keras.layers import Dense, Dropout, Flatten\n",
        "from keras import backend as K\n",
        "\n",
        "import tensorflow as tf"
      ],
      "execution_count": 1,
      "outputs": []
    },
    {
      "cell_type": "markdown",
      "metadata": {
        "id": "r2huTSawwaX6"
      },
      "source": [
        "# Preparing Dataset"
      ]
    },
    {
      "cell_type": "code",
      "metadata": {
        "id": "xHdqe8agwaX8",
        "colab": {
          "base_uri": "https://localhost:8080/"
        },
        "outputId": "bcbad070-048f-408c-8d2f-b396b8879768"
      },
      "source": [
        "# Generate dummy data\n",
        "import numpy as np\n",
        "data = np.random.random((1000, 100))\n",
        "labels = np.random.randint(2, size=(1000, 1))\n",
        "\n",
        "# Convert labels to categorical one-hot encoding\n",
        "labels = tf.keras.utils.to_categorical(labels, num_classes=10)\n",
        "\n",
        "test_data = np.random.random((200, 100))\n",
        "test_labels = np.random.randint(2, size=(200, 1))\n",
        "test_labels = tf.keras.utils.to_categorical(test_labels, num_classes=10)\n",
        "\n",
        "print(test_labels.shape)"
      ],
      "execution_count": 2,
      "outputs": [
        {
          "output_type": "stream",
          "name": "stdout",
          "text": [
            "(200, 10)\n"
          ]
        }
      ]
    },
    {
      "cell_type": "markdown",
      "metadata": {
        "id": "ezvOthJvwaYD"
      },
      "source": [
        "# Building a Model"
      ]
    },
    {
      "cell_type": "code",
      "metadata": {
        "id": "LkTna8tnwaYE",
        "colab": {
          "base_uri": "https://localhost:8080/"
        },
        "outputId": "473cc889-e6f3-421b-9c9a-f86f05971ef2"
      },
      "source": [
        "# For a single-input model with 10 classes (categorical classification):\n",
        "\n",
        "model = Sequential()\n",
        "model.add(Dense(32, activation='relu', input_dim=100))\n",
        "model.add(Dense(10, activation='softmax'))\n",
        "model.summary()"
      ],
      "execution_count": 3,
      "outputs": [
        {
          "output_type": "stream",
          "name": "stdout",
          "text": [
            "Model: \"sequential\"\n",
            "_________________________________________________________________\n",
            " Layer (type)                Output Shape              Param #   \n",
            "=================================================================\n",
            " dense (Dense)               (None, 32)                3232      \n",
            "                                                                 \n",
            " dense_1 (Dense)             (None, 10)                330       \n",
            "                                                                 \n",
            "=================================================================\n",
            "Total params: 3,562\n",
            "Trainable params: 3,562\n",
            "Non-trainable params: 0\n",
            "_________________________________________________________________\n"
          ]
        }
      ]
    },
    {
      "cell_type": "markdown",
      "metadata": {
        "id": "SO9yp25SwaYI"
      },
      "source": [
        "# Compile"
      ]
    },
    {
      "cell_type": "code",
      "metadata": {
        "id": "Qv9B70BMwaYJ",
        "colab": {
          "base_uri": "https://localhost:8080/"
        },
        "outputId": "48c8f2a8-40cf-497f-e673-b23882da126f"
      },
      "source": [
        "model.compile(optimizer='rmsprop',\n",
        "              loss='categorical_crossentropy',\n",
        "              metrics=['accuracy'])\n",
        "\n",
        "# Train the model, iterating on the data in batches of 32 samples\n",
        "model.fit(data, labels, epochs=10, batch_size=32)"
      ],
      "execution_count": 4,
      "outputs": [
        {
          "output_type": "stream",
          "name": "stdout",
          "text": [
            "Epoch 1/10\n",
            "32/32 [==============================] - 1s 2ms/step - loss: 1.3763 - accuracy: 0.4520 \n",
            "Epoch 2/10\n",
            "32/32 [==============================] - 0s 1ms/step - loss: 0.7699 - accuracy: 0.5080\n",
            "Epoch 3/10\n",
            "32/32 [==============================] - 0s 1ms/step - loss: 0.7206 - accuracy: 0.5300\n",
            "Epoch 4/10\n",
            "32/32 [==============================] - 0s 1ms/step - loss: 0.7062 - accuracy: 0.5220\n",
            "Epoch 5/10\n",
            "32/32 [==============================] - 0s 1ms/step - loss: 0.6992 - accuracy: 0.5380\n",
            "Epoch 6/10\n",
            "32/32 [==============================] - 0s 1ms/step - loss: 0.6908 - accuracy: 0.5390\n",
            "Epoch 7/10\n",
            "32/32 [==============================] - 0s 1ms/step - loss: 0.6794 - accuracy: 0.5600\n",
            "Epoch 8/10\n",
            "32/32 [==============================] - 0s 1ms/step - loss: 0.6772 - accuracy: 0.5690\n",
            "Epoch 9/10\n",
            "32/32 [==============================] - 0s 1ms/step - loss: 0.6767 - accuracy: 0.5590\n",
            "Epoch 10/10\n",
            "32/32 [==============================] - 0s 1ms/step - loss: 0.6695 - accuracy: 0.5860\n"
          ]
        },
        {
          "output_type": "execute_result",
          "data": {
            "text/plain": [
              "<keras.callbacks.History at 0x7f5837252310>"
            ]
          },
          "metadata": {},
          "execution_count": 4
        }
      ]
    },
    {
      "cell_type": "markdown",
      "metadata": {
        "id": "tjp22AA0waYQ"
      },
      "source": [
        "# Evaluate"
      ]
    },
    {
      "cell_type": "code",
      "metadata": {
        "id": "8j2OXeATwaYR",
        "colab": {
          "base_uri": "https://localhost:8080/"
        },
        "outputId": "8cfc28ea-dfb8-4769-db08-7aabdbdc2463"
      },
      "source": [
        "score = model.evaluate(test_data, test_labels, verbose=0)\n",
        "print('Test loss:', score[0])\n",
        "print('Test accuracy:', score[1])"
      ],
      "execution_count": 5,
      "outputs": [
        {
          "output_type": "stream",
          "name": "stdout",
          "text": [
            "Test loss: 0.7645940184593201\n",
            "Test accuracy: 0.5\n"
          ]
        }
      ]
    },
    {
      "cell_type": "markdown",
      "metadata": {
        "id": "d00Fw-NhwaYY"
      },
      "source": [
        "# Predict"
      ]
    },
    {
      "cell_type": "code",
      "metadata": {
        "id": "-KOehZdewaYa",
        "colab": {
          "base_uri": "https://localhost:8080/"
        },
        "outputId": "00607989-2192-4f2a-89bb-74c7fc249db6"
      },
      "source": [
        "prediction = model.predict(np.random.random((1, 100)))\n",
        "print(prediction)\n",
        "print(sum(prediction[0]))\n",
        "(prediction>0.5)*1"
      ],
      "execution_count": 6,
      "outputs": [
        {
          "output_type": "stream",
          "name": "stdout",
          "text": [
            "[[3.7598673e-01 6.2394053e-01 2.5439367e-05 1.3524076e-05 1.9634197e-06\n",
            "  1.2010669e-05 2.6698049e-06 4.6903879e-06 4.1007788e-06 8.3126788e-06]]\n",
            "0.9999999637132078\n"
          ]
        },
        {
          "output_type": "execute_result",
          "data": {
            "text/plain": [
              "array([[0, 1, 0, 0, 0, 0, 0, 0, 0, 0]])"
            ]
          },
          "metadata": {},
          "execution_count": 6
        }
      ]
    },
    {
      "cell_type": "markdown",
      "metadata": {
        "id": "lt9A0lnowaYh"
      },
      "source": [
        "# Exercise 1\n",
        "### Develop a multiclass classification model for the following. Populate a dataset 2000 samples where 1500 samples for training, 500 samples for testing. The dimension of each sample is 225. Build a neural network model with 64 nodes in first layer with Relu activation and sigmoid activation function for output layer. Run the model for 10 epochs with batch size of 16 samples. Evaluate the model with test data and print accuracy."
      ]
    },
    {
      "cell_type": "markdown",
      "metadata": {
        "id": "IIo6nD50waYi"
      },
      "source": [
        "# Exercise 2\n",
        "### Run the model with different number of epochs such as 10, 15, 20, 25 and compare the accuracies"
      ]
    },
    {
      "cell_type": "markdown",
      "metadata": {
        "id": "ng3jod9IwaYj"
      },
      "source": [
        "# Exercise 3\n",
        "### Run the model with different number of batch sizes such as 2, 4, 8, 16, 32, 64 and compare the accuracies"
      ]
    }
  ]
}